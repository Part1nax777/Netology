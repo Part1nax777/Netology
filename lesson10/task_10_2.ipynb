{
 "cells": [
  {
   "cell_type": "code",
   "execution_count": 60,
   "metadata": {},
   "outputs": [
    {
     "data": {
      "text/plain": [
       "240580.0"
      ]
     },
     "execution_count": 60,
     "metadata": {},
     "output_type": "execute_result"
    }
   ],
   "source": [
    "import pandas as pd\n",
    "\n",
    "data = pd.read_csv('power.csv')\n",
    "country_sort = data[data['country'].isin(['Latvia', 'Lithuania', 'Estonia'])]\n",
    "category_sort = country_sort[country_sort['category'].isin([4, 12, 21])]\n",
    "year_2005_sort = category_sort[category_sort['year'] >= 2005]\n",
    "year_2010_sort = year_2005_sort[year_2005_sort['year'] <= 2010]\n",
    "only_positive_results = year_2010_sort[year_2010_sort['quantity'] > 0]\n",
    "quantity_sum = sum(only_positive_results['quantity'])\n",
    "quantity_sum\n"
   ]
  }
 ],
 "metadata": {
  "kernelspec": {
   "display_name": "Python 3",
   "language": "python",
   "name": "python3"
  },
  "language_info": {
   "codemirror_mode": {
    "name": "ipython",
    "version": 3
   },
   "file_extension": ".py",
   "mimetype": "text/x-python",
   "name": "python",
   "nbconvert_exporter": "python",
   "pygments_lexer": "ipython3",
   "version": "3.8.5"
  }
 },
 "nbformat": 4,
 "nbformat_minor": 4
}
