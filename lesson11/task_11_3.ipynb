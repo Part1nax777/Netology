{
 "cells": [
  {
   "cell_type": "code",
   "execution_count": 73,
   "metadata": {},
   "outputs": [
    {
     "data": {
      "text/plain": [
       "year\n",
       "2010    3.716839\n",
       "1999    3.703101\n",
       "1995    3.666667\n",
       "2000    3.659240\n",
       "1997    3.626290\n",
       "2005    3.620723\n",
       "1996    3.596089\n",
       "1998    3.574247\n",
       "2006    3.546710\n",
       "2008    3.505849\n",
       "1900    3.502665\n",
       "2001    3.500429\n",
       "2007    3.464470\n",
       "2003    3.447333\n",
       "2004    3.396522\n",
       "2009    3.333139\n",
       "2002    3.321229\n",
       "Name: rating, dtype: float64"
      ]
     },
     "execution_count": 73,
     "metadata": {},
     "output_type": "execute_result"
    }
   ],
   "source": [
    "import pandas as pd\n",
    "from datetime import datetime\n",
    "\n",
    "data = pd.read_csv('ratings.csv')\n",
    "years = list(range(1950, 2011))\n",
    "\n",
    "def convert_year(row):\n",
    "    return datetime.utcfromtimestamp(row.timestamp).strftime('%Y') \n",
    "\n",
    "def production_year(row):\n",
    "    if int(row.timestamp) in years:\n",
    "        return row.timestamp\n",
    "    else:\n",
    "        return '1900'\n",
    "    \n",
    "data['timestamp'] = data.apply(convert_year, axis=1)\n",
    "data['year'] = data.apply(production_year, axis=1)\n",
    "average_rating = data.groupby('year')['rating'].mean()\n",
    "average_rating.sort_values(ascending=False)\n"
   ]
  }
 ],
 "metadata": {
  "kernelspec": {
   "display_name": "Python 3",
   "language": "python",
   "name": "python3"
  },
  "language_info": {
   "codemirror_mode": {
    "name": "ipython",
    "version": 3
   },
   "file_extension": ".py",
   "mimetype": "text/x-python",
   "name": "python",
   "nbconvert_exporter": "python",
   "pygments_lexer": "ipython3",
   "version": "3.8.5"
  }
 },
 "nbformat": 4,
 "nbformat_minor": 4
}
