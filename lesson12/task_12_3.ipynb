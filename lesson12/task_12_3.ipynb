{
 "cells": [
  {
   "cell_type": "code",
   "execution_count": 91,
   "metadata": {},
   "outputs": [
    {
     "data": {
      "text/plain": [
       "userId\n",
       "4     1970-01-01 00:03:23.560\n",
       "8     1970-01-01 00:01:25.187\n",
       "15    1970-01-06 10:56:33.496\n",
       "17    1970-01-01 00:00:08.053\n",
       "19    1970-01-01 00:00:05.282\n",
       "                ...          \n",
       "656   1970-01-01 00:00:03.053\n",
       "659   1970-01-01 08:46:49.411\n",
       "664   1970-01-02 03:16:20.439\n",
       "665   1970-01-01 15:02:11.471\n",
       "671   1970-01-01 03:08:03.984\n",
       "Name: timestamp, Length: 258, dtype: datetime64[ns]"
      ]
     },
     "execution_count": 91,
     "metadata": {},
     "output_type": "execute_result"
    }
   ],
   "source": [
    "import pandas as pd\n",
    "\n",
    "data = pd.read_csv('ratings.csv')\n",
    "\n",
    "user_count_marks = data.pivot_table(index = 'userId', values = 'rating', aggfunc = 'count').reset_index()\n",
    "sorted_data_users = user_count_marks[user_count_marks.rating > 100].merge(data, on = 'userId')\n",
    "ttl_user = (sorted_data_users.groupby('userId')['timestamp'].agg('max') - \n",
    "            sorted_data_users.groupby('userId')['timestamp'].agg('min'))\n",
    "pd.to_datetime(ttl_user, unit = 'ms') "
   ]
  }
 ],
 "metadata": {
  "kernelspec": {
   "display_name": "Python 3",
   "language": "python",
   "name": "python3"
  },
  "language_info": {
   "codemirror_mode": {
    "name": "ipython",
    "version": 3
   },
   "file_extension": ".py",
   "mimetype": "text/x-python",
   "name": "python",
   "nbconvert_exporter": "python",
   "pygments_lexer": "ipython3",
   "version": "3.8.5"
  }
 },
 "nbformat": 4,
 "nbformat_minor": 4
}
