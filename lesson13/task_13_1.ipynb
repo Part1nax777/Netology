{
 "cells": [
  {
   "cell_type": "markdown",
   "metadata": {},
   "source": [
    "## Основной dataframe"
   ]
  },
  {
   "cell_type": "code",
   "execution_count": 113,
   "metadata": {},
   "outputs": [
    {
     "data": {
      "text/html": [
       "<div>\n",
       "<style scoped>\n",
       "    .dataframe tbody tr th:only-of-type {\n",
       "        vertical-align: middle;\n",
       "    }\n",
       "\n",
       "    .dataframe tbody tr th {\n",
       "        vertical-align: top;\n",
       "    }\n",
       "\n",
       "    .dataframe thead th {\n",
       "        text-align: right;\n",
       "    }\n",
       "</style>\n",
       "<table border=\"1\" class=\"dataframe\">\n",
       "  <thead>\n",
       "    <tr style=\"text-align: right;\">\n",
       "      <th></th>\n",
       "      <th>Дата</th>\n",
       "      <th>Заголовок</th>\n",
       "      <th>Ссылка</th>\n",
       "    </tr>\n",
       "  </thead>\n",
       "  <tbody>\n",
       "    <tr>\n",
       "      <th>0</th>\n",
       "      <td>вчера в 17:26</td>\n",
       "      <td>Цветочные новости: разработчики ОС Fuchsia доб...</td>\n",
       "      <td>https://habr.com/ru/company/selectel/blog/542160/</td>\n",
       "    </tr>\n",
       "  </tbody>\n",
       "</table>\n",
       "</div>"
      ],
      "text/plain": [
       "            Дата                                          Заголовок  \\\n",
       "0  вчера в 17:26  Цветочные новости: разработчики ОС Fuchsia доб...   \n",
       "\n",
       "                                              Ссылка  \n",
       "0  https://habr.com/ru/company/selectel/blog/542160/  "
      ]
     },
     "execution_count": 113,
     "metadata": {},
     "output_type": "execute_result"
    }
   ],
   "source": [
    "import requests\n",
    "import pandas as pd\n",
    "from bs4 import BeautifulSoup\n",
    "\n",
    "KEYWORDS = ['linux']\n",
    "habr_df = pd.DataFrame()\n",
    "\n",
    "page_object = requests.get('https://habr.com/ru/all/')\n",
    "parse_with_soup = BeautifulSoup(page_object.text, 'html.parser')\n",
    "posts = parse_with_soup.find_all('article', class_='post post_preview')\n",
    "for post in posts:\n",
    "    for keyword in KEYWORDS:\n",
    "        if keyword.lower() in post.text.lower():\n",
    "            time = post.find('span', class_='post__time').text\n",
    "            heading = post.find('a', class_='post__title_link').text\n",
    "            link = post.find('a', class_='post__title_link')['href']\n",
    "            row = {'Дата': time, 'Заголовок': heading, 'Ссылка': link}\n",
    "            habr_df = pd.concat([habr_df, pd.DataFrame([row])])\n",
    "habr_df.drop_duplicates().reset_index().drop('index', 1)"
   ]
  },
  {
   "cell_type": "markdown",
   "metadata": {},
   "source": [
    "## Расширенный dataframe"
   ]
  },
  {
   "cell_type": "code",
   "execution_count": 116,
   "metadata": {},
   "outputs": [
    {
     "data": {
      "text/html": [
       "<div>\n",
       "<style scoped>\n",
       "    .dataframe tbody tr th:only-of-type {\n",
       "        vertical-align: middle;\n",
       "    }\n",
       "\n",
       "    .dataframe tbody tr th {\n",
       "        vertical-align: top;\n",
       "    }\n",
       "\n",
       "    .dataframe thead th {\n",
       "        text-align: right;\n",
       "    }\n",
       "</style>\n",
       "<table border=\"1\" class=\"dataframe\">\n",
       "  <thead>\n",
       "    <tr style=\"text-align: right;\">\n",
       "      <th></th>\n",
       "      <th>Дата</th>\n",
       "      <th>Заголовок</th>\n",
       "      <th>Ссылка</th>\n",
       "      <th>Текст</th>\n",
       "    </tr>\n",
       "  </thead>\n",
       "  <tbody>\n",
       "    <tr>\n",
       "      <th>0</th>\n",
       "      <td>вчера в 18:13</td>\n",
       "      <td>ESP32-C3: первое знакомство. Заменим ESP8266?</td>\n",
       "      <td>https://habr.com/ru/post/541874/</td>\n",
       "      <td>Новая игрушкаВ ноябре 2020 года Espressif анон...</td>\n",
       "    </tr>\n",
       "    <tr>\n",
       "      <th>1</th>\n",
       "      <td>вчера в 17:26</td>\n",
       "      <td>Цветочные новости: разработчики ОС Fuchsia доб...</td>\n",
       "      <td>https://habr.com/ru/company/selectel/blog/542160/</td>\n",
       "      <td>Несмотря на то, что новостей про ОС Fuchsia не...</td>\n",
       "    </tr>\n",
       "  </tbody>\n",
       "</table>\n",
       "</div>"
      ],
      "text/plain": [
       "            Дата                                          Заголовок  \\\n",
       "0  вчера в 18:13      ESP32-C3: первое знакомство. Заменим ESP8266?   \n",
       "1  вчера в 17:26  Цветочные новости: разработчики ОС Fuchsia доб...   \n",
       "\n",
       "                                              Ссылка  \\\n",
       "0                   https://habr.com/ru/post/541874/   \n",
       "1  https://habr.com/ru/company/selectel/blog/542160/   \n",
       "\n",
       "                                               Текст  \n",
       "0  Новая игрушкаВ ноябре 2020 года Espressif анон...  \n",
       "1  Несмотря на то, что новостей про ОС Fuchsia не...  "
      ]
     },
     "execution_count": 116,
     "metadata": {},
     "output_type": "execute_result"
    }
   ],
   "source": [
    "import requests\n",
    "import pandas as pd\n",
    "from bs4 import BeautifulSoup\n",
    "\n",
    "KEYWORDS = ['linux']\n",
    "habr_df = pd.DataFrame()\n",
    "\n",
    "page_object = requests.get('https://habr.com/ru/all/')\n",
    "parse_with_soup = BeautifulSoup(page_object.text, 'html.parser')\n",
    "posts = parse_with_soup.find_all('article', class_='post post_preview')\n",
    "\n",
    "for post in posts:\n",
    "    for keyword in KEYWORDS:\n",
    "        link = post.find('a', class_='post__title_link')['href']\n",
    "        post_page = requests.get(link)\n",
    "        parse_page_with_soup = BeautifulSoup(post_page.text, 'html.parser')\n",
    "        article_text = parse_page_with_soup.find('div', class_='post__body').text.strip()\n",
    "        if (keyword.lower() in post.text.lower()) or (keyword.lower() in article_text.lower()):\n",
    "            time = post.find('span', class_='post__time').text\n",
    "            heading = post.find('a', class_='post__title_link').text\n",
    "            row = {'Дата': time, 'Заголовок': heading, 'Ссылка': link, 'Текст': article_text}\n",
    "            habr_df = pd.concat([habr_df, pd.DataFrame([row])])\n",
    "habr_df.drop_duplicates().reset_index().drop('index', 1)"
   ]
  }
 ],
 "metadata": {
  "kernelspec": {
   "display_name": "Python 3",
   "language": "python",
   "name": "python3"
  },
  "language_info": {
   "codemirror_mode": {
    "name": "ipython",
    "version": 3
   },
   "file_extension": ".py",
   "mimetype": "text/x-python",
   "name": "python",
   "nbconvert_exporter": "python",
   "pygments_lexer": "ipython3",
   "version": "3.8.5"
  }
 },
 "nbformat": 4,
 "nbformat_minor": 4
}
