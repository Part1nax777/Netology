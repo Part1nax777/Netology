{
 "cells": [
  {
   "cell_type": "code",
   "execution_count": 668,
   "metadata": {},
   "outputs": [
    {
     "name": "stdout",
     "output_type": "stream",
     "text": [
      "Средний выигрыш/проигрыш за игру: -0.21448999999999996\n"
     ]
    }
   ],
   "source": [
    "import numpy as np\n",
    "\n",
    "positive_outcome = 0\n",
    "game_cost = 1\n",
    "gain = 0\n",
    "attempt = 100000\n",
    "winning_combinations = {'777': 200, '999': 100, '555': 50, '333': 15, '111': 10, '77': 5, '7': 3, '00': 2, '0': 1}\n",
    "\n",
    "for i in range(attempt): \n",
    "    slot_number = str(np.random.randint(0, 1000))\n",
    "    if slot_number in winning_combinations.keys():\n",
    "        gain += winning_combinations[slot_number]\n",
    "        positive_outcome += 1\n",
    "    elif slot_number[1:] == '77' or slot_number[1:] == '00':\n",
    "        gain += winning_combinations[slot_number[1:]] \n",
    "        positive_outcome += 1\n",
    "    elif slot_number[2:] == '7' or slot_number[2:] == '0':\n",
    "        gain += winning_combinations[slot_number[2:]]\n",
    "        positive_outcome += 1\n",
    "    else:\n",
    "        None\n",
    "middle_win  = (gain / attempt) - game_cost\n",
    "print('Средний выигрыш/проигрыш за игру:', middle_win)"
   ]
  },
  {
   "cell_type": "code",
   "execution_count": 674,
   "metadata": {},
   "outputs": [
    {
     "name": "stdout",
     "output_type": "stream",
     "text": [
      "Частота по методу Монте Карло 0.18794\n",
      "Средний выигрыш/проигрыш за игру, расчётный -0.09566666666666668\n"
     ]
    }
   ],
   "source": [
    "def counting_repetitions(number):\n",
    "    count = 0\n",
    "    for i in range (1000):\n",
    "        i += 1\n",
    "        if str(i)[-(len(str(number))):] == str(number):\n",
    "            count += 1\n",
    "    return count\n",
    "\n",
    "count_triples_numbers = counting_repetitions(777) * 5\n",
    "count_doubles_numbers = (counting_repetitions(77) - counting_repetitions(777)) * 2\n",
    "count_singles_numbers = (counting_repetitions(7) - counting_repetitions(77) - counting_repetitions(777)) * 2\n",
    "\n",
    "probability_triples_numbers = count_triples_numbers / 1000\n",
    "probability_doubles_numbers = count_doubles_numbers / 1000\n",
    "probability_singles_numbers = count_singles_numbers / 1000\n",
    "\n",
    "middle_win_triples_numbers = (probability_triples_numbers * winning_combinations['777'] + probability_triples_numbers * winning_combinations['999'] + \n",
    "                            probability_triples_numbers * winning_combinations['555'] + probability_triples_numbers * winning_combinations['333'] +\n",
    "                            probability_triples_numbers * winning_combinations['111'])\n",
    "middle_win_doubles_numbers = probability_doubles_numbers * winning_combinations['77'] + probability_doubles_numbers * winning_combinations['00']\n",
    "middle_win_singles_numbers = probability_singles_numbers * winning_combinations['7'] + probability_singles_numbers * winning_combinations['0']\n",
    "\n",
    "middle_win_calc = ((middle_win_triples_numbers + middle_win_doubles_numbers + middle_win_singles_numbers) / 3) - game_cost\n",
    "monte_carlo = positive_outcome / attempt\n",
    "\n",
    "print('Частота по методу Монте Карло', monte_carlo)\n",
    "print('Средний выигрыш/проигрыш за игру, расчётный', middle_win_calc)"
   ]
  }
 ],
 "metadata": {
  "kernelspec": {
   "display_name": "Python 3",
   "language": "python",
   "name": "python3"
  },
  "language_info": {
   "codemirror_mode": {
    "name": "ipython",
    "version": 3
   },
   "file_extension": ".py",
   "mimetype": "text/x-python",
   "name": "python",
   "nbconvert_exporter": "python",
   "pygments_lexer": "ipython3",
   "version": "3.8.5"
  }
 },
 "nbformat": 4,
 "nbformat_minor": 4
}
