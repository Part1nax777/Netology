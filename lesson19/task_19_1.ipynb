{
 "cells": [
  {
   "cell_type": "code",
   "execution_count": 1,
   "metadata": {},
   "outputs": [],
   "source": [
    "import numpy as np\n",
    "import pandas as pd\n",
    "import scipy.stats\n",
    "import matplotlib.pyplot as plt  \n",
    "\n",
    "import seaborn as sns "
   ]
  },
  {
   "cell_type": "markdown",
   "metadata": {},
   "source": [
    "### Задание 0 "
   ]
  },
  {
   "cell_type": "code",
   "execution_count": 2,
   "metadata": {},
   "outputs": [],
   "source": [
    "n = 97"
   ]
  },
  {
   "cell_type": "code",
   "execution_count": null,
   "metadata": {},
   "outputs": [],
   "source": [
    "for n in range (100):\n",
    "    if n%1!=0: \n",
    "        print('Вы забыли округлить ответ!!!!')\n",
    "    elif hash(str(n)) == -6483854632660926687: \n",
    "        print(\"Ошибка, вероятно выбран квартиль для уровня доверия 0.95, а не 0.975. Смотри формулу!\")\n",
    "    elif hash(str(n)) != 8942973788178395504: \n",
    "        pass\n",
    "        #print(\"Нет, Неверно!\")\n",
    "    else:\n",
    "        print(n)\n",
    "        print('Верно!!!! Двигайтесь дальше!')\n",
    "        "
   ]
  }
 ],
 "metadata": {
  "kernelspec": {
   "display_name": "Python 3",
   "language": "python",
   "name": "python3"
  },
  "language_info": {
   "codemirror_mode": {
    "name": "ipython",
    "version": 3
   },
   "file_extension": ".py",
   "mimetype": "text/x-python",
   "name": "python",
   "nbconvert_exporter": "python",
   "pygments_lexer": "ipython3",
   "version": "3.8.8"
  }
 },
 "nbformat": 4,
 "nbformat_minor": 4
}
