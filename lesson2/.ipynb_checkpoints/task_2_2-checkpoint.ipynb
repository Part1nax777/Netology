{
 "cells": [
  {
   "cell_type": "code",
   "execution_count": 2,
   "metadata": {},
   "outputs": [
    {
     "name": "stdout",
     "output_type": "stream",
     "text": [
      "Введите число:58\n",
      "Введите число:63\n",
      "Введите число:26\n",
      "Введите число:0\n",
      "Результат:  147\n"
     ]
    }
   ],
   "source": [
    "numbers = []\n",
    "number = None\n",
    "while number != 0:\n",
    "    number = int(input('Введите число:'))\n",
    "    sum_numbers = 0\n",
    "    while number:\n",
    "        sum_numbers += number\n",
    "        number = int(input('Введите число:'))\n",
    "    print('Результат: ', sum_numbers)      \n",
    "            "
   ]
  }
 ],
 "metadata": {
  "kernelspec": {
   "display_name": "Python 3",
   "language": "python",
   "name": "python3"
  },
  "language_info": {
   "codemirror_mode": {
    "name": "ipython",
    "version": 3
   },
   "file_extension": ".py",
   "mimetype": "text/x-python",
   "name": "python",
   "nbconvert_exporter": "python",
   "pygments_lexer": "ipython3",
   "version": "3.8.5"
  }
 },
 "nbformat": 4,
 "nbformat_minor": 4
}
