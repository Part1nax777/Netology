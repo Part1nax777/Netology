{
 "cells": [
  {
   "cell_type": "code",
   "execution_count": 19,
   "metadata": {},
   "outputs": [
    {
     "name": "stdout",
     "output_type": "stream",
     "text": [
      "Введите числа:11 3 11 2\n",
      "Повторяющиеся числа в наборе:  11\n"
     ]
    }
   ],
   "source": [
    "numbers = input('Введите числа:').split(' ')\n",
    "res = []\n",
    "for num in numbers:\n",
    "    if numbers.count(num) > 1 and num not in res:\n",
    "        res.append(num)\n",
    "print('Повторяющиеся числа в наборе: ', ' '.join(res)) "
   ]
  }
 ],
 "metadata": {
  "kernelspec": {
   "display_name": "Python 3",
   "language": "python",
   "name": "python3"
  },
  "language_info": {
   "codemirror_mode": {
    "name": "ipython",
    "version": 3
   },
   "file_extension": ".py",
   "mimetype": "text/x-python",
   "name": "python",
   "nbconvert_exporter": "python",
   "pygments_lexer": "ipython3",
   "version": "3.8.5"
  }
 },
 "nbformat": 4,
 "nbformat_minor": 4
}
