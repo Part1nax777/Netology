{
 "cells": [
  {
   "cell_type": "code",
   "execution_count": 2,
   "metadata": {},
   "outputs": [
    {
     "name": "stdout",
     "output_type": "stream",
     "text": [
      "Введите число:\n",
      "25\n",
      "Введите число:\n",
      "30\n",
      "Введите число:\n",
      "1\n",
      "Введите число:\n",
      "0\n",
      "Результат:\n",
      "56\n"
     ]
    }
   ],
   "source": [
    "numbers = []\n",
    "number = None\n",
    "while number != 0:\n",
    "    print('Введите число:')\n",
    "    number = int(input())\n",
    "    numbers.append(number)\n",
    "    if number == 0:\n",
    "        sum = 0\n",
    "        for element in numbers:\n",
    "            sum += element\n",
    "        print('Результат:')\n",
    "        print(sum)      \n",
    "            "
   ]
  }
 ],
 "metadata": {
  "kernelspec": {
   "display_name": "Python 3",
   "language": "python",
   "name": "python3"
  },
  "language_info": {
   "codemirror_mode": {
    "name": "ipython",
    "version": 3
   },
   "file_extension": ".py",
   "mimetype": "text/x-python",
   "name": "python",
   "nbconvert_exporter": "python",
   "pygments_lexer": "ipython3",
   "version": "3.8.5"
  }
 },
 "nbformat": 4,
 "nbformat_minor": 4
}
