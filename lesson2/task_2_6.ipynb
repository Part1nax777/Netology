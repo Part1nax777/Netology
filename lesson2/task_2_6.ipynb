{
 "cells": [
  {
   "cell_type": "code",
   "execution_count": 11,
   "metadata": {},
   "outputs": [
    {
     "name": "stdout",
     "output_type": "stream",
     "text": [
      "Введите числа:11 3 3 11 4 11 3 4 4\n",
      "11 3 4 "
     ]
    }
   ],
   "source": [
    "numbers = input('Введите числа:').split()\n",
    "numbers = sorted(set(numbers))\n",
    "for number in numbers:\n",
    "    print(number, end = ' ') "
   ]
  }
 ],
 "metadata": {
  "kernelspec": {
   "display_name": "Python 3",
   "language": "python",
   "name": "python3"
  },
  "language_info": {
   "codemirror_mode": {
    "name": "ipython",
    "version": 3
   },
   "file_extension": ".py",
   "mimetype": "text/x-python",
   "name": "python",
   "nbconvert_exporter": "python",
   "pygments_lexer": "ipython3",
   "version": "3.8.5"
  }
 },
 "nbformat": 4,
 "nbformat_minor": 4
}
