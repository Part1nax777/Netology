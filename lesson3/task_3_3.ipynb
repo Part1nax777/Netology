{
 "cells": [
  {
   "cell_type": "code",
   "execution_count": 89,
   "metadata": {},
   "outputs": [
    {
     "name": "stdout",
     "output_type": "stream",
     "text": [
      "{'adwords': {'ROI': 2.94, 'cost': 34, 'revenue': 35}, 'facebook': {'ROI': -6.36, 'cost': 110, 'revenue': 103}, 'twitter': {'ROI': -54.17, 'cost': 24, 'revenue': 11}, 'vk': {'ROI': 5.1, 'cost': 98, 'revenue': 103}, 'yandex': {'ROI': 16.99, 'cost': 153, 'revenue': 179}}\n"
     ]
    }
   ],
   "source": [
    "results = {\n",
    "    'vk': {'revenue': 103, 'cost': 98},\n",
    "    'yandex': {'revenue': 179, 'cost': 153},\n",
    "    'facebook': {'revenue': 103, 'cost': 110},\n",
    "    'adwords': {'revenue': 35, 'cost': 34},\n",
    "    'twitter': {'revenue': 11, 'cost': 24},\n",
    "}\n",
    "\n",
    "for key in results:\n",
    "    results[key]['ROI'] = round((results[key]['revenue'] / results[key]['cost'] - 1) * 100, 2)\n",
    "    results[key] = dict(sorted(results[key].items()))\n",
    "sort_results = dict(sorted(results.items()))\n",
    "print(sort_results)\n"
   ]
  }
 ],
 "metadata": {
  "kernelspec": {
   "display_name": "Python 3",
   "language": "python",
   "name": "python3"
  },
  "language_info": {
   "codemirror_mode": {
    "name": "ipython",
    "version": 3
   },
   "file_extension": ".py",
   "mimetype": "text/x-python",
   "name": "python",
   "nbconvert_exporter": "python",
   "pygments_lexer": "ipython3",
   "version": "3.8.5"
  }
 },
 "nbformat": 4,
 "nbformat_minor": 4
}
