{
 "cells": [
  {
   "cell_type": "code",
   "execution_count": 81,
   "metadata": {},
   "outputs": [
    {
     "name": "stdout",
     "output_type": "stream",
     "text": [
      "('adwords', {'ROI': 2.94, 'cost': 34, 'revenue': 35})\n",
      "('facebook', {'ROI': -6.36, 'cost': 110, 'revenue': 103})\n",
      "('twitter', {'ROI': -54.17, 'cost': 24, 'revenue': 11})\n",
      "('vk', {'ROI': 5.1, 'cost': 98, 'revenue': 103})\n",
      "('yandex', {'ROI': 16.99, 'cost': 153, 'revenue': 179})\n"
     ]
    }
   ],
   "source": [
    "results = {\n",
    "    'vk': {'revenue': 103, 'cost': 98},\n",
    "    'yandex': {'revenue': 179, 'cost': 153},\n",
    "    'facebook': {'revenue': 103, 'cost': 110},\n",
    "    'adwords': {'revenue': 35, 'cost': 34},\n",
    "    'twitter': {'revenue': 11, 'cost': 24},\n",
    "}\n",
    "\n",
    "for key in results:\n",
    "    results[key]['ROI'] = round((results[key]['revenue'] / results[key]['cost'] - 1) * 100, 2)\n",
    "    results[key] = dict(sorted(results[key].items()))\n",
    "\n",
    "for sort_results in sorted(results.items()):\n",
    "    print(sort_results)"
   ]
  }
 ],
 "metadata": {
  "kernelspec": {
   "display_name": "Python 3",
   "language": "python",
   "name": "python3"
  },
  "language_info": {
   "codemirror_mode": {
    "name": "ipython",
    "version": 3
   },
   "file_extension": ".py",
   "mimetype": "text/x-python",
   "name": "python",
   "nbconvert_exporter": "python",
   "pygments_lexer": "ipython3",
   "version": "3.8.5"
  }
 },
 "nbformat": 4,
 "nbformat_minor": 4
}
