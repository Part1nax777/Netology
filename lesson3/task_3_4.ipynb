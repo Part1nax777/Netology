{
 "cells": [
  {
   "cell_type": "code",
   "execution_count": 11,
   "metadata": {},
   "outputs": [
    {
     "name": "stdout",
     "output_type": "stream",
     "text": [
      "Максимальный объем продаж на рекламном канале: vk\n"
     ]
    }
   ],
   "source": [
    "stats = {\n",
    "    'facebook': 55, \n",
    "    'yandex': 115, \n",
    "    'vk': 120, \n",
    "    'google': 99, \n",
    "    'email': 42, \n",
    "    'ok': 98\n",
    "}\n",
    "\n",
    "max_value = max(stats.values())\n",
    "for key, value in stats.items():\n",
    "    if value == max_value:\n",
    "        print(f'Максимальный объем продаж на рекламном канале: {key}')\n",
    "\n"
   ]
  }
 ],
 "metadata": {
  "kernelspec": {
   "display_name": "Python 3",
   "language": "python",
   "name": "python3"
  },
  "language_info": {
   "codemirror_mode": {
    "name": "ipython",
    "version": 3
   },
   "file_extension": ".py",
   "mimetype": "text/x-python",
   "name": "python",
   "nbconvert_exporter": "python",
   "pygments_lexer": "ipython3",
   "version": "3.8.5"
  }
 },
 "nbformat": 4,
 "nbformat_minor": 4
}
