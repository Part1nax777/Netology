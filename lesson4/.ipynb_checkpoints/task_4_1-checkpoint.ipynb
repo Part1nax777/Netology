{
 "cells": [
  {
   "cell_type": "code",
   "execution_count": 7,
   "metadata": {},
   "outputs": [
    {
     "name": "stdout",
     "output_type": "stream",
     "text": [
      "Введите команду: l\n",
      "№: 2207 876234, тип: passport, владелец: Василий Гупкин, полка хранения: 1\n",
      "№: 11-2, тип: invoice, владелец: Геннадий Покемонов, полка хранения: 1\n",
      "№: 10006, тип: insurance, владелец: Аристарх Павлов, полка хранения: 2\n",
      "Введите команду: p\n",
      "Введите номер документа: 10006\n",
      "Аристарх Павлов\n",
      "Введите команду: s\n",
      "Введите номер документа: 11-2\n",
      "Документ хранится на полке 1\n",
      "Введите команду: 12\n",
      "Введите команду: s\n",
      "Введите номер документа: 12\n",
      "Документ не найден в базе\n",
      "Введите команду: q\n"
     ]
    }
   ],
   "source": [
    "documents = [\n",
    "{'type': 'passport', 'number': '2207 876234', 'name': 'Василий Гупкин'},\n",
    "{'type': 'invoice', 'number': '11-2', 'name': 'Геннадий Покемонов'},\n",
    "{'type': 'insurance', 'number': '10006', 'name': 'Аристарх Павлов'}\n",
    "]\n",
    "\n",
    "directories = {\n",
    "'1': ['2207 876234', '11-2'],\n",
    "'2': ['10006'],\n",
    "'3': []\n",
    "}\n",
    "\n",
    "def document_owner(documents, document_number):    \n",
    "    for document in documents:\n",
    "        if document['number'] == document_number:\n",
    "            return document['name']\n",
    "    return('Документ не найден в базе')\n",
    "\n",
    "def shelf_number(directories, document_number):\n",
    "    for shelf, document in directories.items():\n",
    "        for element in document:\n",
    "            if element == document_number:\n",
    "                return shelf\n",
    "    return None\n",
    "\n",
    "def full_information(documents):\n",
    "    for document in documents:\n",
    "        print(f\"№: {document['number']}, \" +\n",
    "              f\"тип: {document['type']}, \" + \n",
    "              f\"владелец: {document['name']}, \" + \n",
    "              f\"полка хранения: {shelf_number(directories, document['number'])}\")    \n",
    "\n",
    "while True:\n",
    "    user_input = input('Введите команду: ')\n",
    "    if user_input == 'q':\n",
    "        break\n",
    "    if user_input == 'p':\n",
    "        document_number = input('Введите номер документа: ')\n",
    "        print(document_owner(documents, document_number))\n",
    "    if user_input == 's':\n",
    "        document_number = input('Введите номер документа: ')\n",
    "        shelf_number(directories, document_number)\n",
    "        if shelf_number(directories, document_number) is None:\n",
    "            print('Документ не найден в базе')\n",
    "        else:\n",
    "            print(f'Документ хранится на полке {shelf_number(directories, document_number)}')\n",
    "    if user_input == 'l':\n",
    "        full_information(documents)\n",
    "    if user_input == 'ads':\n",
    "        pass\n",
    "    if user_input == 'ds':\n",
    "        pass\n"
   ]
  }
 ],
 "metadata": {
  "kernelspec": {
   "display_name": "Python 3",
   "language": "python",
   "name": "python3"
  },
  "language_info": {
   "codemirror_mode": {
    "name": "ipython",
    "version": 3
   },
   "file_extension": ".py",
   "mimetype": "text/x-python",
   "name": "python",
   "nbconvert_exporter": "python",
   "pygments_lexer": "ipython3",
   "version": "3.8.5"
  }
 },
 "nbformat": 4,
 "nbformat_minor": 4
}
