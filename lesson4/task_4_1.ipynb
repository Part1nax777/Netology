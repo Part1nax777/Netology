{
 "cells": [
  {
   "cell_type": "code",
   "execution_count": 4,
   "metadata": {},
   "outputs": [
    {
     "name": "stdout",
     "output_type": "stream",
     "text": [
      "Введите команду: p\n",
      "Введите номер документа: 2207 876234\n",
      "Василий Гупкин\n",
      "Введите команду: q\n"
     ]
    }
   ],
   "source": [
    "documents = [\n",
    "{'type': 'passport', 'number': '2207 876234', 'name': 'Василий Гупкин'},\n",
    "{'type': 'invoice', 'number': '11-2', 'name': 'Геннадий Покемонов'},\n",
    "{'type': 'insurance', 'number': '10006', 'name': 'Аристарх Павлов'}\n",
    "]\n",
    "\n",
    "directories = {\n",
    "'1': ['2207 876234', '11-2'],\n",
    "'2': ['10006'],\n",
    "'3': []\n",
    "}\n",
    "\n",
    "def document_owner(documents):\n",
    "    document_number = input('Введите номер документа: ')\n",
    "    for document in documents:\n",
    "        if document['number'] == document_number:\n",
    "            return document['name']\n",
    "    return('Документ не найден в базе')\n",
    "\n",
    "while True:\n",
    "    user_input = input('Введите команду: ')\n",
    "    if user_input == 'q':\n",
    "        break\n",
    "    if user_input == 'p':\n",
    "        print(document_owner(documents))\n",
    "    if user_input == 's':\n",
    "        pass\n",
    "    if user_input == 'l':\n",
    "        pass\n",
    "    if user_input == 'ds':\n",
    "        pass\n"
   ]
  }
 ],
 "metadata": {
  "kernelspec": {
   "display_name": "Python 3",
   "language": "python",
   "name": "python3"
  },
  "language_info": {
   "codemirror_mode": {
    "name": "ipython",
    "version": 3
   },
   "file_extension": ".py",
   "mimetype": "text/x-python",
   "name": "python",
   "nbconvert_exporter": "python",
   "pygments_lexer": "ipython3",
   "version": "3.8.5"
  }
 },
 "nbformat": 4,
 "nbformat_minor": 4
}
