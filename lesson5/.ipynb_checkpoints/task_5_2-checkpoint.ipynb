{
 "cells": [
  {
   "cell_type": "code",
   "execution_count": 20,
   "metadata": {},
   "outputs": [],
   "source": [
    "# открыть фаил purchase_log.txt составить хеш\n",
    "# открыть фаил visit_log.csv читать построчно, сопоставить каждый user_id c категорией из purchase_log.txt\n",
    "# результат записать в funnel.csv (строка с запятыми)\n",
    "\n",
    "import json\n",
    "\n",
    "purchases = {}\n",
    "for i, line in enumerate(open('purchase_log.txt', 'r')):\n",
    "    dict_line = json.loads(line.strip())\n",
    "    purchases[dict_line['user_id']] = dict_line['category']\n",
    "        \n",
    "with open('visit_log.csv', 'r') as visit_file:\n",
    "    #i = 0\n",
    "    for visit_file_line in visit_file:\n",
    "        user_id_visit = visit_file_line.split(',')[0]\n",
    "        if user_id_visit in purchases.keys():\n",
    "            with open('funnel.csv', 'a') as funnel_file: \n",
    "                funnel_file.write(f'{visit_file_line.strip()},{purchases[user_id_visit]} \\n')\n",
    "        #i += 1\n",
    "        "
   ]
  }
 ],
 "metadata": {
  "kernelspec": {
   "display_name": "Python 3",
   "language": "python",
   "name": "python3"
  },
  "language_info": {
   "codemirror_mode": {
    "name": "ipython",
    "version": 3
   },
   "file_extension": ".py",
   "mimetype": "text/x-python",
   "name": "python",
   "nbconvert_exporter": "python",
   "pygments_lexer": "ipython3",
   "version": "3.8.5"
  }
 },
 "nbformat": 4,
 "nbformat_minor": 4
}
