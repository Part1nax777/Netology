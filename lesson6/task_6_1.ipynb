{
 "cells": [
  {
   "cell_type": "code",
   "execution_count": 1,
   "metadata": {},
   "outputs": [
    {
     "name": "stdout",
     "output_type": "stream",
     "text": [
      "<class 'datetime.datetime'>\n",
      "<class 'datetime.datetime'>\n",
      "<class 'datetime.datetime'>\n"
     ]
    }
   ],
   "source": [
    "from datetime import datetime\n",
    "\n",
    "def format_string(string):\n",
    "    formated_string = string.replace(' ', '.').replace(',', '')\n",
    "    return formated_string\n",
    "\n",
    "The_Moscow_Times_object = datetime.strptime(format_string('Wednesday, October 2, 2002'), '%A.%B.%d.%Y')\n",
    "The_Guardian_object = datetime.strptime(format_string('Friday, 11.10.13'), '%A.%d.%m.%y')\n",
    "The_Daily_News_object = datetime.strptime(format_string('Thursday, 18 August 1977'), '%A.%d.%B.%Y')\n",
    "\n",
    "print(type(The_Moscow_Times_object))\n",
    "print(type(The_Guardian_object))\n",
    "print(type(The_Daily_News_object))    \n"
   ]
  }
 ],
 "metadata": {
  "kernelspec": {
   "display_name": "Python 3",
   "language": "python",
   "name": "python3"
  },
  "language_info": {
   "codemirror_mode": {
    "name": "ipython",
    "version": 3
   },
   "file_extension": ".py",
   "mimetype": "text/x-python",
   "name": "python",
   "nbconvert_exporter": "python",
   "pygments_lexer": "ipython3",
   "version": "3.8.5"
  }
 },
 "nbformat": 4,
 "nbformat_minor": 4
}
