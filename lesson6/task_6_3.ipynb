{
 "cells": [
  {
   "cell_type": "code",
   "execution_count": 70,
   "metadata": {},
   "outputs": [
    {
     "data": {
      "text/plain": [
       "['2020-06-01',\n",
       " '2020-06-02',\n",
       " '2020-06-03',\n",
       " '2020-06-04',\n",
       " '2020-06-05',\n",
       " '2020-06-06',\n",
       " '2020-06-07',\n",
       " '2020-06-08',\n",
       " '2020-06-09',\n",
       " '2020-06-10',\n",
       " '2020-06-11',\n",
       " '2020-06-12',\n",
       " '2020-06-13',\n",
       " '2020-06-14',\n",
       " '2020-06-15',\n",
       " '2020-06-16',\n",
       " '2020-06-17',\n",
       " '2020-06-18',\n",
       " '2020-06-19',\n",
       " '2020-06-20',\n",
       " '2020-06-21',\n",
       " '2020-06-22',\n",
       " '2020-06-23',\n",
       " '2020-06-24',\n",
       " '2020-06-25',\n",
       " '2020-06-26',\n",
       " '2020-06-27',\n",
       " '2020-06-28',\n",
       " '2020-06-29',\n",
       " '2020-06-30']"
      ]
     },
     "execution_count": 70,
     "metadata": {},
     "output_type": "execute_result"
    }
   ],
   "source": [
    "from datetime import datetime\n",
    "from datetime import timedelta\n",
    "\n",
    "start_date = '2020-06-01'\n",
    "end_date = '2020-07-01'\n",
    "     \n",
    "def date_range(start_date, end_date):\n",
    "    date_list = []\n",
    "    try:\n",
    "        start_date_object = datetime.strptime(start_date, '%Y-%m-%d')\n",
    "        end_date_object = datetime.strptime(end_date, '%Y-%m-%d')            \n",
    "    except:\n",
    "        print('Неверный формат даты')\n",
    "        return []\n",
    "    \n",
    "    if start_date > end_date:\n",
    "        print('Дата начала больше даты конца периода')\n",
    "        return []\n",
    "    else:\n",
    "        while start_date_object < end_date_object: \n",
    "            date_list.append(start_date_object.strftime('%Y-%m-%d'))\n",
    "            start_date_object += timedelta(days = 1)\n",
    "        return date_list\n",
    "    \n",
    "date_range(start_date, end_date)\n",
    "    "
   ]
  }
 ],
 "metadata": {
  "kernelspec": {
   "display_name": "Python 3",
   "language": "python",
   "name": "python3"
  },
  "language_info": {
   "codemirror_mode": {
    "name": "ipython",
    "version": 3
   },
   "file_extension": ".py",
   "mimetype": "text/x-python",
   "name": "python",
   "nbconvert_exporter": "python",
   "pygments_lexer": "ipython3",
   "version": "3.8.5"
  }
 },
 "nbformat": 4,
 "nbformat_minor": 4
}
