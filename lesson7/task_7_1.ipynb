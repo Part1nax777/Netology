{
 "cells": [
  {
   "cell_type": "code",
   "execution_count": 55,
   "metadata": {},
   "outputs": [
    {
     "name": "stdout",
     "output_type": "stream",
     "text": [
      "2021-01-17 самый высокий курс у СДР (специальные права заимствования)\n"
     ]
    }
   ],
   "source": [
    "import requests\n",
    "from datetime import date\n",
    "\n",
    "class Rate:\n",
    "    \n",
    "    def name_max_currency(self):\n",
    "        name_value_currencys = {}\n",
    "        self.request_currency = requests.get('https://www.cbr-xml-daily.ru/daily_json.js')\n",
    "        all_currencys = self.request_currency.json()['Valute'].keys()      \n",
    "        for currency in all_currencys:\n",
    "            name_value_currencys[currency] = self.request_currency.json()['Valute'][currency]['Value']\n",
    "        char_code_max = max(name_value_currencys, key=lambda k: name_value_currencys[k])   \n",
    "        return self.request_currency.json()['Valute'][char_code_max]['Name']\n",
    "\n",
    "today_max = Rate()\n",
    "print(f'{date.today()} самый высокий курс у {today_max.name_max_currency()}')\n"
   ]
  }
 ],
 "metadata": {
  "kernelspec": {
   "display_name": "Python 3",
   "language": "python",
   "name": "python3"
  },
  "language_info": {
   "codemirror_mode": {
    "name": "ipython",
    "version": 3
   },
   "file_extension": ".py",
   "mimetype": "text/x-python",
   "name": "python",
   "nbconvert_exporter": "python",
   "pygments_lexer": "ipython3",
   "version": "3.8.5"
  }
 },
 "nbformat": 4,
 "nbformat_minor": 4
}
