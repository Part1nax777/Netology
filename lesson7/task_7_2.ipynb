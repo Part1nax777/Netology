{
 "cells": [
  {
   "cell_type": "code",
   "execution_count": 39,
   "metadata": {},
   "outputs": [
    {
     "name": "stdout",
     "output_type": "stream",
     "text": [
      "Разница в курсе выбранной валюты по сравнению со вчерашним днём составляет -0.3929 руб\n"
     ]
    },
    {
     "data": {
      "text/plain": [
       "{'ID': 'R01235',\n",
       " 'NumCode': '840',\n",
       " 'CharCode': 'USD',\n",
       " 'Nominal': 1,\n",
       " 'Name': 'Доллар США',\n",
       " 'Value': 73.5453,\n",
       " 'Previous': 73.7961}"
      ]
     },
     "execution_count": 39,
     "metadata": {},
     "output_type": "execute_result"
    }
   ],
   "source": [
    "# если при объявлении класса значение diff равно True, то выводим разницу курса \n",
    "import requests\n",
    "\n",
    "class Rate:   \n",
    "    def __init__(self, diff=False, format_='value'):\n",
    "        self.format = format_\n",
    "        self.diff = diff\n",
    "   \n",
    "    def exchange_rates(self):       \n",
    "        self.r = requests.get('https://www.cbr-xml-daily.ru/daily_json.js')\n",
    "        return self.r.json()['Valute']\n",
    "    \n",
    "    def make_format(self, currency):\n",
    "        response = self.exchange_rates()        \n",
    "        if currency in response:            \n",
    "            if self.diff == True:\n",
    "                return  response[currency]['Value'] - response[currency]['Previous']                      \n",
    "            if self.format == 'full':\n",
    "                return response[currency]           \n",
    "            if self.format == 'value':\n",
    "                return response[currency]['Value']                          \n",
    "        return 'Error'\n",
    "    \n",
    "    def eur(self):\n",
    "        return self.make_format('EUR')\n",
    "    \n",
    "    def usd(self):\n",
    "        return self.make_format('USD')\n",
    "    \n",
    "    def brl(self):\n",
    "        return self.make_format('BRL')\n",
    " \n",
    "EUR = Rate(diff=True)\n",
    "print(f'Разница в курсе выбранной валюты по сравнению со вчерашним днём составляет {round(EUR.eur(), 5)} руб')\n",
    "USD = Rate(format_='full')\n",
    "USD.usd()"
   ]
  }
 ],
 "metadata": {
  "kernelspec": {
   "display_name": "Python 3",
   "language": "python",
   "name": "python3"
  },
  "language_info": {
   "codemirror_mode": {
    "name": "ipython",
    "version": 3
   },
   "file_extension": ".py",
   "mimetype": "text/x-python",
   "name": "python",
   "nbconvert_exporter": "python",
   "pygments_lexer": "ipython3",
   "version": "3.8.5"
  }
 },
 "nbformat": 4,
 "nbformat_minor": 4
}
