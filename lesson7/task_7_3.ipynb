{
 "cells": [
  {
   "cell_type": "code",
   "execution_count": 109,
   "metadata": {},
   "outputs": [
    {
     "name": "stdout",
     "output_type": "stream",
     "text": [
      "Анна 4\n",
      "Анна 1\n",
      "Анна 28\n",
      "Анна 5\n"
     ]
    }
   ],
   "source": [
    "# повышение грейда каждые 7 баллов, международная премия +2 балла, прохождение аккредитации +1 балл, \n",
    "# изначально есть 2 международные премии\n",
    "\n",
    "class Designer:\n",
    "    def __init__(self, name, seniority=0, prize=2):\n",
    "        self.name = name\n",
    "        self.seniority = seniority + (2*prize)\n",
    "        self.grade = 1\n",
    "              \n",
    "    def seniority_prize_up(self):\n",
    "        self.seniority += 2\n",
    "        self.check_current_grade()\n",
    "        \n",
    "    def seniority_accreditation_up(self):\n",
    "        self.seniority += 1\n",
    "        self.check_current_grade()\n",
    "        \n",
    "    def grade_up(self):\n",
    "        self.grade += 1\n",
    "        \n",
    "    def check_current_grade(self):\n",
    "        self.grade = 1\n",
    "        promotions = self.seniority // 7\n",
    "        for i in range(promotions):\n",
    "            self.grade_up()\n",
    "    \n",
    "    def current_seniority(self):\n",
    "        print(self.name, self.seniority)\n",
    "\n",
    "    def publish_grade(self):\n",
    "        print(self.name, self.grade)\n",
    "\n",
    "Ann = Designer('Анна')\n",
    "Ann.current_seniority()\n",
    "Ann.publish_grade()\n",
    "for i in range(24):\n",
    "    Ann.seniority_accreditation_up()\n",
    "Ann.current_seniority()\n",
    "Ann.publish_grade()"
   ]
  }
 ],
 "metadata": {
  "kernelspec": {
   "display_name": "Python 3",
   "language": "python",
   "name": "python3"
  },
  "language_info": {
   "codemirror_mode": {
    "name": "ipython",
    "version": 3
   },
   "file_extension": ".py",
   "mimetype": "text/x-python",
   "name": "python",
   "nbconvert_exporter": "python",
   "pygments_lexer": "ipython3",
   "version": "3.8.5"
  }
 },
 "nbformat": 4,
 "nbformat_minor": 4
}
