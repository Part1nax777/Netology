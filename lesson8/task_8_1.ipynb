{
 "cells": [
  {
   "cell_type": "code",
   "execution_count": 76,
   "metadata": {},
   "outputs": [
    {
     "name": "stdout",
     "output_type": "stream",
     "text": [
      "Номер М973ДЕ валиден. Регион: 123\n",
      "Номер не валиден\n"
     ]
    }
   ],
   "source": [
    "import re\n",
    "\n",
    "def transport_number(number):\n",
    "    valid_number = re.findall(r'^[а-я,А-Я]\\d{3}[а-я,А-Я]{2}\\d{2,3}$', number)\n",
    "    return (f'Номер {number[:6]} валиден. Регион: {number[6:]}' if valid_number else 'Номер не валиден')\n",
    "    \n",
    "print(transport_number('М973ДЕ123'))\n",
    "print(transport_number('МА973ДЕ122'))"
   ]
  }
 ],
 "metadata": {
  "kernelspec": {
   "display_name": "Python 3",
   "language": "python",
   "name": "python3"
  },
  "language_info": {
   "codemirror_mode": {
    "name": "ipython",
    "version": 3
   },
   "file_extension": ".py",
   "mimetype": "text/x-python",
   "name": "python",
   "nbconvert_exporter": "python",
   "pygments_lexer": "ipython3",
   "version": "3.8.5"
  }
 },
 "nbformat": 4,
 "nbformat_minor": 4
}
