{
 "cells": [
  {
   "cell_type": "code",
   "execution_count": 20,
   "metadata": {},
   "outputs": [
    {
     "name": "stdout",
     "output_type": "stream",
     "text": [
      "@gmail.com: 2\n",
      "@test.in: 1\n",
      "@ya.ru: 2\n",
      "@mail.ru: 1\n"
     ]
    }
   ],
   "source": [
    "import re\n",
    "\n",
    "def domain_counter(emails_list):\n",
    "    domain_dictionary = {}\n",
    "    for email in emails_list:\n",
    "        domain = re.findall(r'@\\w{2,5}.\\w{2,3}', email)\n",
    "        if domain[0] in domain_dictionary:\n",
    "            domain_dictionary[domain[0]] += 1\n",
    "        else:\n",
    "            domain_dictionary[domain[0]] = 1\n",
    "    return domain_dictionary\n",
    "    \n",
    "emails = ['test@gmail.com', 'xyz@test.in', 'test@ya.ru', 'xyz@mail.ru', 'xyz@ya.ru', 'xyz@gmail.com']\n",
    "quantity_domains = domain_counter(emails)\n",
    "\n",
    "for domain, quantity in quantity_domains.items():\n",
    "    print(f'{domain}: {quantity}')\n",
    "\n"
   ]
  }
 ],
 "metadata": {
  "kernelspec": {
   "display_name": "Python 3",
   "language": "python",
   "name": "python3"
  },
  "language_info": {
   "codemirror_mode": {
    "name": "ipython",
    "version": 3
   },
   "file_extension": ".py",
   "mimetype": "text/x-python",
   "name": "python",
   "nbconvert_exporter": "python",
   "pygments_lexer": "ipython3",
   "version": "3.8.5"
  }
 },
 "nbformat": 4,
 "nbformat_minor": 4
}
