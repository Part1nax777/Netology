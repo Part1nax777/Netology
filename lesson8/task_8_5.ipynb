{
 "cells": [
  {
   "cell_type": "code",
   "execution_count": 72,
   "metadata": {},
   "outputs": [
    {
     "name": "stdout",
     "output_type": "stream",
     "text": [
      "Слов на гласные буквы: 9 \n",
      "Слов на согласные буквы: 21\n"
     ]
    }
   ],
   "source": [
    "import re\n",
    "\n",
    "def vowels_count(string):\n",
    "    vowels_letters = re.findall(r'\\b[aeiouyаеёиоуыэюя]{1}', string, flags=re.IGNORECASE)\n",
    "    return len(vowels_letters)\n",
    "\n",
    "def consonants_count(string):\n",
    "    consonants_letters = re.findall(r'\\b[^aeiouyаеёиоуыэюя,\\s.?!-:;]{1}', string, flags=re.IGNORECASE)\n",
    "    return len(consonants_letters)\n",
    "\n",
    "some_text = 'Эталонной реализацией Python является интерпретатор CPython, поддерживающий большинство активно используемых платформ. Он распространяется под свободной лицензией Python Software Foundation License, позволяющей использовать его без ограничений в любых приложениях, включая проприетарные.'\n",
    "print(f'Слов на гласные буквы: {vowels_count(some_text)} \\nСлов на согласные буквы: {consonants_count(some_text)}')\n"
   ]
  }
 ],
 "metadata": {
  "kernelspec": {
   "display_name": "Python 3",
   "language": "python",
   "name": "python3"
  },
  "language_info": {
   "codemirror_mode": {
    "name": "ipython",
    "version": 3
   },
   "file_extension": ".py",
   "mimetype": "text/x-python",
   "name": "python",
   "nbconvert_exporter": "python",
   "pygments_lexer": "ipython3",
   "version": "3.8.5"
  }
 },
 "nbformat": 4,
 "nbformat_minor": 4
}
