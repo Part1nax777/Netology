{
 "cells": [
  {
   "cell_type": "code",
   "execution_count": 96,
   "metadata": {},
   "outputs": [
    {
     "name": "stdout",
     "output_type": "stream",
     "text": [
      "+7-955-555-55-55\n",
      "+7-955-555-55-55\n",
      "+7-955-555-55-55\n",
      "+7-955-555-55-55\n",
      "Номер не валиден\n",
      "Номер не валиден\n"
     ]
    }
   ],
   "source": [
    "import re\n",
    "\n",
    "def format_phone_number(number):\n",
    "    pattern = re.findall(r'[8|\\+7]\\s?\\-?\\(?\\d{3}\\)?\\s?\\-?\\d{3}\\s?\\-?\\d{2}\\s?\\-?\\d{2}', number)\n",
    "    if pattern:\n",
    "        format_number = re.sub(r'[8|+7]\\s?\\-?\\(?(\\d{3})\\)?\\s?\\-?(\\d{3})\\s?\\-?(\\d{2})\\s?\\-?(\\d{2})', r'+7-\\1-\\2-\\3-\\4', pattern[0])\n",
    "        return format_number\n",
    "    else:\n",
    "        return 'Номер не валиден'\n",
    "\n",
    "phone_number_1 = '+7 955 555-55-55'\n",
    "print(format_phone_number(phone_number_1))\n",
    "phone_number_2 = '8(955)555-55-55'\n",
    "print(format_phone_number(phone_number_2))\n",
    "phone_number_3 = '+7 955 555 55 55'\n",
    "print(format_phone_number(phone_number_3))\n",
    "phone_number_4 = '7(955) 555-55-55'\n",
    "print(format_phone_number(phone_number_4))\n",
    "phone_number_5 = '423-555-55-5555'\n",
    "print(format_phone_number(phone_number_5))\n",
    "phone_number_6 = '123-456-789'\n",
    "print(format_phone_number(phone_number_6))\n"
   ]
  }
 ],
 "metadata": {
  "kernelspec": {
   "display_name": "Python 3",
   "language": "python",
   "name": "python3"
  },
  "language_info": {
   "codemirror_mode": {
    "name": "ipython",
    "version": 3
   },
   "file_extension": ".py",
   "mimetype": "text/x-python",
   "name": "python",
   "nbconvert_exporter": "python",
   "pygments_lexer": "ipython3",
   "version": "3.8.5"
  }
 },
 "nbformat": 4,
 "nbformat_minor": 4
}
